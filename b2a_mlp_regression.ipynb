{
 "cells": [
  {
   "cell_type": "markdown",
   "id": "bb6b4739",
   "metadata": {},
   "source": [
    "# B2A TIME-SERIES PREDICTION USING A MLP"
   ]
  },
  {
   "cell_type": "code",
   "execution_count": 1,
   "id": "7d0f3ca8",
   "metadata": {},
   "outputs": [],
   "source": [
    "import pandas as pd\n",
    "import numpy as np\n",
    "from sklearn.preprocessing import LabelEncoder\n",
    "import tensorflow as tf\n",
    "from keras.utils import np_utils\n",
    "from keras.models import Sequential\n",
    "from keras.layers import Dense\n",
    "import matplotlib.pyplot as plt\n",
    "from sklearn.metrics import matthews_corrcoef\n",
    "from sklearn.metrics import confusion_matrix\n",
    "from sklearn.metrics import mean_squared_error, r2_score\n",
    "from sklearn.preprocessing import MinMaxScaler"
   ]
  },
  {
   "cell_type": "markdown",
   "id": "9d2f5ea3",
   "metadata": {},
   "source": [
    "## Read data from excel file. "
   ]
  },
  {
   "cell_type": "code",
   "execution_count": 2,
   "id": "bc9d0985",
   "metadata": {},
   "outputs": [],
   "source": [
    "data=pd.read_csv('./data_akbilgic_clean.csv', sep=';')"
   ]
  },
  {
   "cell_type": "code",
   "execution_count": 3,
   "id": "3cd77cb5",
   "metadata": {},
   "outputs": [
    {
     "data": {
      "text/html": [
       "<div>\n",
       "<style scoped>\n",
       "    .dataframe tbody tr th:only-of-type {\n",
       "        vertical-align: middle;\n",
       "    }\n",
       "\n",
       "    .dataframe tbody tr th {\n",
       "        vertical-align: top;\n",
       "    }\n",
       "\n",
       "    .dataframe thead th {\n",
       "        text-align: right;\n",
       "    }\n",
       "</style>\n",
       "<table border=\"1\" class=\"dataframe\">\n",
       "  <thead>\n",
       "    <tr style=\"text-align: right;\">\n",
       "      <th></th>\n",
       "      <th>ISE</th>\n",
       "      <th>ISE.1</th>\n",
       "      <th>SP</th>\n",
       "      <th>DAX</th>\n",
       "      <th>FTSE</th>\n",
       "      <th>NIKKEI</th>\n",
       "      <th>BOVESPA</th>\n",
       "      <th>EU</th>\n",
       "      <th>EM</th>\n",
       "    </tr>\n",
       "  </thead>\n",
       "  <tbody>\n",
       "    <tr>\n",
       "      <th>0</th>\n",
       "      <td>0.035754</td>\n",
       "      <td>0.038376</td>\n",
       "      <td>-0.004679</td>\n",
       "      <td>0.002193</td>\n",
       "      <td>0.003894</td>\n",
       "      <td>0.000000</td>\n",
       "      <td>0.031190</td>\n",
       "      <td>0.012698</td>\n",
       "      <td>0.028524</td>\n",
       "    </tr>\n",
       "    <tr>\n",
       "      <th>1</th>\n",
       "      <td>0.025426</td>\n",
       "      <td>0.031813</td>\n",
       "      <td>0.007787</td>\n",
       "      <td>0.008455</td>\n",
       "      <td>0.012866</td>\n",
       "      <td>0.004162</td>\n",
       "      <td>0.018920</td>\n",
       "      <td>0.011341</td>\n",
       "      <td>0.008773</td>\n",
       "    </tr>\n",
       "    <tr>\n",
       "      <th>2</th>\n",
       "      <td>-0.028862</td>\n",
       "      <td>-0.026353</td>\n",
       "      <td>-0.030469</td>\n",
       "      <td>-0.017833</td>\n",
       "      <td>-0.028735</td>\n",
       "      <td>0.017293</td>\n",
       "      <td>-0.035899</td>\n",
       "      <td>-0.017073</td>\n",
       "      <td>-0.020015</td>\n",
       "    </tr>\n",
       "    <tr>\n",
       "      <th>3</th>\n",
       "      <td>-0.062208</td>\n",
       "      <td>-0.084716</td>\n",
       "      <td>0.003391</td>\n",
       "      <td>-0.011726</td>\n",
       "      <td>-0.000466</td>\n",
       "      <td>-0.040061</td>\n",
       "      <td>0.028283</td>\n",
       "      <td>-0.005561</td>\n",
       "      <td>-0.019424</td>\n",
       "    </tr>\n",
       "    <tr>\n",
       "      <th>4</th>\n",
       "      <td>0.009860</td>\n",
       "      <td>0.009658</td>\n",
       "      <td>-0.021533</td>\n",
       "      <td>-0.019873</td>\n",
       "      <td>-0.012710</td>\n",
       "      <td>-0.004474</td>\n",
       "      <td>-0.009764</td>\n",
       "      <td>-0.010989</td>\n",
       "      <td>-0.007802</td>\n",
       "    </tr>\n",
       "    <tr>\n",
       "      <th>...</th>\n",
       "      <td>...</td>\n",
       "      <td>...</td>\n",
       "      <td>...</td>\n",
       "      <td>...</td>\n",
       "      <td>...</td>\n",
       "      <td>...</td>\n",
       "      <td>...</td>\n",
       "      <td>...</td>\n",
       "      <td>...</td>\n",
       "    </tr>\n",
       "    <tr>\n",
       "      <th>525</th>\n",
       "      <td>0.005356</td>\n",
       "      <td>0.006886</td>\n",
       "      <td>0.004176</td>\n",
       "      <td>0.005425</td>\n",
       "      <td>0.006638</td>\n",
       "      <td>0.004140</td>\n",
       "      <td>0.006238</td>\n",
       "      <td>0.003980</td>\n",
       "      <td>-0.004499</td>\n",
       "    </tr>\n",
       "    <tr>\n",
       "      <th>526</th>\n",
       "      <td>0.004823</td>\n",
       "      <td>-0.003255</td>\n",
       "      <td>-0.002790</td>\n",
       "      <td>-0.000320</td>\n",
       "      <td>-0.006423</td>\n",
       "      <td>-0.001708</td>\n",
       "      <td>-0.023895</td>\n",
       "      <td>-0.003024</td>\n",
       "      <td>-0.014249</td>\n",
       "    </tr>\n",
       "    <tr>\n",
       "      <th>527</th>\n",
       "      <td>-0.017664</td>\n",
       "      <td>-0.024921</td>\n",
       "      <td>0.000749</td>\n",
       "      <td>0.002644</td>\n",
       "      <td>-0.005351</td>\n",
       "      <td>-0.001148</td>\n",
       "      <td>0.005590</td>\n",
       "      <td>-0.003742</td>\n",
       "      <td>-0.014760</td>\n",
       "    </tr>\n",
       "    <tr>\n",
       "      <th>528</th>\n",
       "      <td>0.004782</td>\n",
       "      <td>0.006418</td>\n",
       "      <td>0.005492</td>\n",
       "      <td>0.004204</td>\n",
       "      <td>0.007101</td>\n",
       "      <td>0.011241</td>\n",
       "      <td>0.018077</td>\n",
       "      <td>0.004727</td>\n",
       "      <td>0.003931</td>\n",
       "    </tr>\n",
       "    <tr>\n",
       "      <th>529</th>\n",
       "      <td>-0.002498</td>\n",
       "      <td>0.000405</td>\n",
       "      <td>0.002382</td>\n",
       "      <td>0.003444</td>\n",
       "      <td>-0.000462</td>\n",
       "      <td>0.000000</td>\n",
       "      <td>0.012123</td>\n",
       "      <td>0.000169</td>\n",
       "      <td>0.013448</td>\n",
       "    </tr>\n",
       "  </tbody>\n",
       "</table>\n",
       "<p>530 rows × 9 columns</p>\n",
       "</div>"
      ],
      "text/plain": [
       "          ISE     ISE.1        SP       DAX      FTSE    NIKKEI   BOVESPA  \\\n",
       "0    0.035754  0.038376 -0.004679  0.002193  0.003894  0.000000  0.031190   \n",
       "1    0.025426  0.031813  0.007787  0.008455  0.012866  0.004162  0.018920   \n",
       "2   -0.028862 -0.026353 -0.030469 -0.017833 -0.028735  0.017293 -0.035899   \n",
       "3   -0.062208 -0.084716  0.003391 -0.011726 -0.000466 -0.040061  0.028283   \n",
       "4    0.009860  0.009658 -0.021533 -0.019873 -0.012710 -0.004474 -0.009764   \n",
       "..        ...       ...       ...       ...       ...       ...       ...   \n",
       "525  0.005356  0.006886  0.004176  0.005425  0.006638  0.004140  0.006238   \n",
       "526  0.004823 -0.003255 -0.002790 -0.000320 -0.006423 -0.001708 -0.023895   \n",
       "527 -0.017664 -0.024921  0.000749  0.002644 -0.005351 -0.001148  0.005590   \n",
       "528  0.004782  0.006418  0.005492  0.004204  0.007101  0.011241  0.018077   \n",
       "529 -0.002498  0.000405  0.002382  0.003444 -0.000462  0.000000  0.012123   \n",
       "\n",
       "           EU        EM  \n",
       "0    0.012698  0.028524  \n",
       "1    0.011341  0.008773  \n",
       "2   -0.017073 -0.020015  \n",
       "3   -0.005561 -0.019424  \n",
       "4   -0.010989 -0.007802  \n",
       "..        ...       ...  \n",
       "525  0.003980 -0.004499  \n",
       "526 -0.003024 -0.014249  \n",
       "527 -0.003742 -0.014760  \n",
       "528  0.004727  0.003931  \n",
       "529  0.000169  0.013448  \n",
       "\n",
       "[530 rows x 9 columns]"
      ]
     },
     "execution_count": 3,
     "metadata": {},
     "output_type": "execute_result"
    }
   ],
   "source": [
    "data"
   ]
  },
  {
   "cell_type": "code",
   "execution_count": 4,
   "id": "83123a8b",
   "metadata": {},
   "outputs": [],
   "source": [
    "data.reset_index(inplace=True)#add index"
   ]
  },
  {
   "cell_type": "code",
   "execution_count": 5,
   "id": "ebb171c3",
   "metadata": {},
   "outputs": [
    {
     "data": {
      "text/html": [
       "<div>\n",
       "<style scoped>\n",
       "    .dataframe tbody tr th:only-of-type {\n",
       "        vertical-align: middle;\n",
       "    }\n",
       "\n",
       "    .dataframe tbody tr th {\n",
       "        vertical-align: top;\n",
       "    }\n",
       "\n",
       "    .dataframe thead th {\n",
       "        text-align: right;\n",
       "    }\n",
       "</style>\n",
       "<table border=\"1\" class=\"dataframe\">\n",
       "  <thead>\n",
       "    <tr style=\"text-align: right;\">\n",
       "      <th></th>\n",
       "      <th>index</th>\n",
       "      <th>ISE</th>\n",
       "      <th>ISE.1</th>\n",
       "      <th>SP</th>\n",
       "      <th>DAX</th>\n",
       "      <th>FTSE</th>\n",
       "      <th>NIKKEI</th>\n",
       "      <th>BOVESPA</th>\n",
       "      <th>EU</th>\n",
       "      <th>EM</th>\n",
       "    </tr>\n",
       "  </thead>\n",
       "  <tbody>\n",
       "    <tr>\n",
       "      <th>0</th>\n",
       "      <td>0</td>\n",
       "      <td>0.035754</td>\n",
       "      <td>0.038376</td>\n",
       "      <td>-0.004679</td>\n",
       "      <td>0.002193</td>\n",
       "      <td>0.003894</td>\n",
       "      <td>0.000000</td>\n",
       "      <td>0.031190</td>\n",
       "      <td>0.012698</td>\n",
       "      <td>0.028524</td>\n",
       "    </tr>\n",
       "    <tr>\n",
       "      <th>1</th>\n",
       "      <td>1</td>\n",
       "      <td>0.025426</td>\n",
       "      <td>0.031813</td>\n",
       "      <td>0.007787</td>\n",
       "      <td>0.008455</td>\n",
       "      <td>0.012866</td>\n",
       "      <td>0.004162</td>\n",
       "      <td>0.018920</td>\n",
       "      <td>0.011341</td>\n",
       "      <td>0.008773</td>\n",
       "    </tr>\n",
       "    <tr>\n",
       "      <th>2</th>\n",
       "      <td>2</td>\n",
       "      <td>-0.028862</td>\n",
       "      <td>-0.026353</td>\n",
       "      <td>-0.030469</td>\n",
       "      <td>-0.017833</td>\n",
       "      <td>-0.028735</td>\n",
       "      <td>0.017293</td>\n",
       "      <td>-0.035899</td>\n",
       "      <td>-0.017073</td>\n",
       "      <td>-0.020015</td>\n",
       "    </tr>\n",
       "    <tr>\n",
       "      <th>3</th>\n",
       "      <td>3</td>\n",
       "      <td>-0.062208</td>\n",
       "      <td>-0.084716</td>\n",
       "      <td>0.003391</td>\n",
       "      <td>-0.011726</td>\n",
       "      <td>-0.000466</td>\n",
       "      <td>-0.040061</td>\n",
       "      <td>0.028283</td>\n",
       "      <td>-0.005561</td>\n",
       "      <td>-0.019424</td>\n",
       "    </tr>\n",
       "    <tr>\n",
       "      <th>4</th>\n",
       "      <td>4</td>\n",
       "      <td>0.009860</td>\n",
       "      <td>0.009658</td>\n",
       "      <td>-0.021533</td>\n",
       "      <td>-0.019873</td>\n",
       "      <td>-0.012710</td>\n",
       "      <td>-0.004474</td>\n",
       "      <td>-0.009764</td>\n",
       "      <td>-0.010989</td>\n",
       "      <td>-0.007802</td>\n",
       "    </tr>\n",
       "  </tbody>\n",
       "</table>\n",
       "</div>"
      ],
      "text/plain": [
       "   index       ISE     ISE.1        SP       DAX      FTSE    NIKKEI  \\\n",
       "0      0  0.035754  0.038376 -0.004679  0.002193  0.003894  0.000000   \n",
       "1      1  0.025426  0.031813  0.007787  0.008455  0.012866  0.004162   \n",
       "2      2 -0.028862 -0.026353 -0.030469 -0.017833 -0.028735  0.017293   \n",
       "3      3 -0.062208 -0.084716  0.003391 -0.011726 -0.000466 -0.040061   \n",
       "4      4  0.009860  0.009658 -0.021533 -0.019873 -0.012710 -0.004474   \n",
       "\n",
       "    BOVESPA        EU        EM  \n",
       "0  0.031190  0.012698  0.028524  \n",
       "1  0.018920  0.011341  0.008773  \n",
       "2 -0.035899 -0.017073 -0.020015  \n",
       "3  0.028283 -0.005561 -0.019424  \n",
       "4 -0.009764 -0.010989 -0.007802  "
      ]
     },
     "execution_count": 5,
     "metadata": {},
     "output_type": "execute_result"
    }
   ],
   "source": [
    "data.head()"
   ]
  },
  {
   "cell_type": "markdown",
   "id": "a5135063",
   "metadata": {},
   "source": [
    "## Plot the ISE feature."
   ]
  },
  {
   "cell_type": "code",
   "execution_count": 6,
   "id": "8d2a71dd",
   "metadata": {},
   "outputs": [
    {
     "data": {
      "image/png": "[encoded data removed]",
      "text/plain": [
       "<Figure size 432x288 with 1 Axes>"
      ]
     },
     "metadata": {
      "needs_background": "light"
     },
     "output_type": "display_data"
    }
   ],
   "source": [
    "plt.plot(data['ISE'])\n",
    "plt.savefig('./ise_plot.png')\n",
    "plt.show()"
   ]
  },
  {
   "cell_type": "code",
   "execution_count": 7,
   "id": "5ff92c90",
   "metadata": {},
   "outputs": [
    {
     "data": {
      "image/png": "[encoded data removed]",
      "text/plain": [
       "<Figure size 432x288 with 1 Axes>"
      ]
     },
     "metadata": {
      "needs_background": "light"
     },
     "output_type": "display_data"
    }
   ],
   "source": [
    "ax = plt.gca()\n",
    "data.plot(kind='line', x=0,y=1, color='blue', ax=ax)\n",
    "data.plot(kind='scatter', x=0,y=1, color='red', ax=ax)\n",
    "plt.savefig('./ise_scatter_line_plot.png')\n",
    "plt.show()"
   ]
  },
  {
   "cell_type": "markdown",
   "id": "65fae7ae",
   "metadata": {},
   "source": [
    "## Isolate ISE "
   ]
  },
  {
   "cell_type": "code",
   "execution_count": 8,
   "id": "ebc00120",
   "metadata": {},
   "outputs": [
    {
     "data": {
      "text/html": [
       "<div>\n",
       "<style scoped>\n",
       "    .dataframe tbody tr th:only-of-type {\n",
       "        vertical-align: middle;\n",
       "    }\n",
       "\n",
       "    .dataframe tbody tr th {\n",
       "        vertical-align: top;\n",
       "    }\n",
       "\n",
       "    .dataframe thead th {\n",
       "        text-align: right;\n",
       "    }\n",
       "</style>\n",
       "<table border=\"1\" class=\"dataframe\">\n",
       "  <thead>\n",
       "    <tr style=\"text-align: right;\">\n",
       "      <th></th>\n",
       "      <th>ISE</th>\n",
       "    </tr>\n",
       "  </thead>\n",
       "  <tbody>\n",
       "    <tr>\n",
       "      <th>0</th>\n",
       "      <td>0.035754</td>\n",
       "    </tr>\n",
       "    <tr>\n",
       "      <th>1</th>\n",
       "      <td>0.025426</td>\n",
       "    </tr>\n",
       "    <tr>\n",
       "      <th>2</th>\n",
       "      <td>-0.028862</td>\n",
       "    </tr>\n",
       "    <tr>\n",
       "      <th>3</th>\n",
       "      <td>-0.062208</td>\n",
       "    </tr>\n",
       "    <tr>\n",
       "      <th>4</th>\n",
       "      <td>0.009860</td>\n",
       "    </tr>\n",
       "    <tr>\n",
       "      <th>...</th>\n",
       "      <td>...</td>\n",
       "    </tr>\n",
       "    <tr>\n",
       "      <th>525</th>\n",
       "      <td>0.005356</td>\n",
       "    </tr>\n",
       "    <tr>\n",
       "      <th>526</th>\n",
       "      <td>0.004823</td>\n",
       "    </tr>\n",
       "    <tr>\n",
       "      <th>527</th>\n",
       "      <td>-0.017664</td>\n",
       "    </tr>\n",
       "    <tr>\n",
       "      <th>528</th>\n",
       "      <td>0.004782</td>\n",
       "    </tr>\n",
       "    <tr>\n",
       "      <th>529</th>\n",
       "      <td>-0.002498</td>\n",
       "    </tr>\n",
       "  </tbody>\n",
       "</table>\n",
       "<p>530 rows × 1 columns</p>\n",
       "</div>"
      ],
      "text/plain": [
       "          ISE\n",
       "0    0.035754\n",
       "1    0.025426\n",
       "2   -0.028862\n",
       "3   -0.062208\n",
       "4    0.009860\n",
       "..        ...\n",
       "525  0.005356\n",
       "526  0.004823\n",
       "527 -0.017664\n",
       "528  0.004782\n",
       "529 -0.002498\n",
       "\n",
       "[530 rows x 1 columns]"
      ]
     },
     "execution_count": 8,
     "metadata": {},
     "output_type": "execute_result"
    }
   ],
   "source": [
    "df = data['ISE'].to_frame(name='ISE')\n",
    "df"
   ]
  },
  {
   "cell_type": "markdown",
   "id": "bb68bb46",
   "metadata": {},
   "source": [
    "## Normalize the data."
   ]
  },
  {
   "cell_type": "code",
   "execution_count": 9,
   "id": "2c48af25",
   "metadata": {},
   "outputs": [],
   "source": [
    "df0 = df.copy()\n",
    "scaler = MinMaxScaler(feature_range=(0, 1))\n",
    "df = scaler.fit_transform(np.reshape(df['ISE'].values, (df.shape[0], 1)))\n",
    "df = pd.DataFrame(data=df, columns=['ISE'])"
   ]
  },
  {
   "cell_type": "code",
   "execution_count": 10,
   "id": "fdfc916b",
   "metadata": {},
   "outputs": [
    {
     "data": {
      "text/html": [
       "<div>\n",
       "<style scoped>\n",
       "    .dataframe tbody tr th:only-of-type {\n",
       "        vertical-align: middle;\n",
       "    }\n",
       "\n",
       "    .dataframe tbody tr th {\n",
       "        vertical-align: top;\n",
       "    }\n",
       "\n",
       "    .dataframe thead th {\n",
       "        text-align: right;\n",
       "    }\n",
       "</style>\n",
       "<table border=\"1\" class=\"dataframe\">\n",
       "  <thead>\n",
       "    <tr style=\"text-align: right;\">\n",
       "      <th></th>\n",
       "      <th>ISE</th>\n",
       "    </tr>\n",
       "  </thead>\n",
       "  <tbody>\n",
       "    <tr>\n",
       "      <th>0</th>\n",
       "      <td>0.746889</td>\n",
       "    </tr>\n",
       "    <tr>\n",
       "      <th>1</th>\n",
       "      <td>0.668147</td>\n",
       "    </tr>\n",
       "    <tr>\n",
       "      <th>2</th>\n",
       "      <td>0.254242</td>\n",
       "    </tr>\n",
       "    <tr>\n",
       "      <th>3</th>\n",
       "      <td>0.000000</td>\n",
       "    </tr>\n",
       "    <tr>\n",
       "      <th>4</th>\n",
       "      <td>0.549467</td>\n",
       "    </tr>\n",
       "    <tr>\n",
       "      <th>...</th>\n",
       "      <td>...</td>\n",
       "    </tr>\n",
       "    <tr>\n",
       "      <th>525</th>\n",
       "      <td>0.515125</td>\n",
       "    </tr>\n",
       "    <tr>\n",
       "      <th>526</th>\n",
       "      <td>0.511064</td>\n",
       "    </tr>\n",
       "    <tr>\n",
       "      <th>527</th>\n",
       "      <td>0.339614</td>\n",
       "    </tr>\n",
       "    <tr>\n",
       "      <th>528</th>\n",
       "      <td>0.510754</td>\n",
       "    </tr>\n",
       "    <tr>\n",
       "      <th>529</th>\n",
       "      <td>0.455247</td>\n",
       "    </tr>\n",
       "  </tbody>\n",
       "</table>\n",
       "<p>530 rows × 1 columns</p>\n",
       "</div>"
      ],
      "text/plain": [
       "          ISE\n",
       "0    0.746889\n",
       "1    0.668147\n",
       "2    0.254242\n",
       "3    0.000000\n",
       "4    0.549467\n",
       "..        ...\n",
       "525  0.515125\n",
       "526  0.511064\n",
       "527  0.339614\n",
       "528  0.510754\n",
       "529  0.455247\n",
       "\n",
       "[530 rows x 1 columns]"
      ]
     },
     "execution_count": 10,
     "metadata": {},
     "output_type": "execute_result"
    }
   ],
   "source": [
    "df"
   ]
  },
  {
   "cell_type": "markdown",
   "id": "ab9730f9",
   "metadata": {},
   "source": [
    "## Make Data Supervised"
   ]
  },
  {
   "cell_type": "code",
   "execution_count": 11,
   "id": "4c28476a",
   "metadata": {},
   "outputs": [],
   "source": [
    "def timeseries_to_supervised(df, n_in, n_out):\n",
    "   agg = pd.DataFrame()\n",
    "\n",
    "   for i in range(n_in, 0, -1):\n",
    "      df_shifted = df.shift(i).copy()\n",
    "      df_shifted.rename(columns=lambda x: ('%s(t-%d)' % (x, i)), inplace=True)\n",
    "      agg = pd.concat([agg, df_shifted], axis=1)\n",
    "\n",
    "   for i in range(0, n_out):\n",
    "      df_shifted = df.shift(-i).copy()\n",
    "      if i == 0:\n",
    "         df_shifted.rename(columns=lambda x: ('%s(t)' % (x)), inplace=True)\n",
    "      else:\n",
    "         df_shifted.rename(columns=lambda x: ('%s(t+%d)' % (x, i)), inplace=True)\n",
    "      agg = pd.concat([agg, df_shifted], axis=1)\n",
    "   agg.dropna(inplace=True)\n",
    "   return agg"
   ]
  },
  {
   "cell_type": "code",
   "execution_count": 12,
   "id": "068bef03",
   "metadata": {},
   "outputs": [],
   "source": [
    "n_in = 4 #Timeseries consists of 4 input steps.\n",
    "n_out = 1\n",
    "sdf = timeseries_to_supervised(df, n_in, n_out)"
   ]
  },
  {
   "cell_type": "code",
   "execution_count": 13,
   "id": "b65977d1",
   "metadata": {},
   "outputs": [
    {
     "data": {
      "text/html": [
       "<div>\n",
       "<style scoped>\n",
       "    .dataframe tbody tr th:only-of-type {\n",
       "        vertical-align: middle;\n",
       "    }\n",
       "\n",
       "    .dataframe tbody tr th {\n",
       "        vertical-align: top;\n",
       "    }\n",
       "\n",
       "    .dataframe thead th {\n",
       "        text-align: right;\n",
       "    }\n",
       "</style>\n",
       "<table border=\"1\" class=\"dataframe\">\n",
       "  <thead>\n",
       "    <tr style=\"text-align: right;\">\n",
       "      <th></th>\n",
       "      <th>ISE(t-4)</th>\n",
       "      <th>ISE(t-3)</th>\n",
       "      <th>ISE(t-2)</th>\n",
       "      <th>ISE(t-1)</th>\n",
       "      <th>ISE(t)</th>\n",
       "    </tr>\n",
       "  </thead>\n",
       "  <tbody>\n",
       "    <tr>\n",
       "      <th>4</th>\n",
       "      <td>0.746889</td>\n",
       "      <td>0.668147</td>\n",
       "      <td>0.254242</td>\n",
       "      <td>0.000000</td>\n",
       "      <td>0.549467</td>\n",
       "    </tr>\n",
       "    <tr>\n",
       "      <th>5</th>\n",
       "      <td>0.668147</td>\n",
       "      <td>0.254242</td>\n",
       "      <td>0.000000</td>\n",
       "      <td>0.549467</td>\n",
       "      <td>0.251732</td>\n",
       "    </tr>\n",
       "    <tr>\n",
       "      <th>6</th>\n",
       "      <td>0.254242</td>\n",
       "      <td>0.000000</td>\n",
       "      <td>0.549467</td>\n",
       "      <td>0.251732</td>\n",
       "      <td>0.592052</td>\n",
       "    </tr>\n",
       "    <tr>\n",
       "      <th>7</th>\n",
       "      <td>0.000000</td>\n",
       "      <td>0.549467</td>\n",
       "      <td>0.251732</td>\n",
       "      <td>0.592052</td>\n",
       "      <td>0.160419</td>\n",
       "    </tr>\n",
       "    <tr>\n",
       "      <th>8</th>\n",
       "      <td>0.549467</td>\n",
       "      <td>0.251732</td>\n",
       "      <td>0.592052</td>\n",
       "      <td>0.160419</td>\n",
       "      <td>0.479339</td>\n",
       "    </tr>\n",
       "    <tr>\n",
       "      <th>...</th>\n",
       "      <td>...</td>\n",
       "      <td>...</td>\n",
       "      <td>...</td>\n",
       "      <td>...</td>\n",
       "      <td>...</td>\n",
       "    </tr>\n",
       "    <tr>\n",
       "      <th>525</th>\n",
       "      <td>0.531069</td>\n",
       "      <td>0.287664</td>\n",
       "      <td>0.661138</td>\n",
       "      <td>0.427052</td>\n",
       "      <td>0.515125</td>\n",
       "    </tr>\n",
       "    <tr>\n",
       "      <th>526</th>\n",
       "      <td>0.287664</td>\n",
       "      <td>0.661138</td>\n",
       "      <td>0.427052</td>\n",
       "      <td>0.515125</td>\n",
       "      <td>0.511064</td>\n",
       "    </tr>\n",
       "    <tr>\n",
       "      <th>527</th>\n",
       "      <td>0.661138</td>\n",
       "      <td>0.427052</td>\n",
       "      <td>0.515125</td>\n",
       "      <td>0.511064</td>\n",
       "      <td>0.339614</td>\n",
       "    </tr>\n",
       "    <tr>\n",
       "      <th>528</th>\n",
       "      <td>0.427052</td>\n",
       "      <td>0.515125</td>\n",
       "      <td>0.511064</td>\n",
       "      <td>0.339614</td>\n",
       "      <td>0.510754</td>\n",
       "    </tr>\n",
       "    <tr>\n",
       "      <th>529</th>\n",
       "      <td>0.515125</td>\n",
       "      <td>0.511064</td>\n",
       "      <td>0.339614</td>\n",
       "      <td>0.510754</td>\n",
       "      <td>0.455247</td>\n",
       "    </tr>\n",
       "  </tbody>\n",
       "</table>\n",
       "<p>526 rows × 5 columns</p>\n",
       "</div>"
      ],
      "text/plain": [
       "     ISE(t-4)  ISE(t-3)  ISE(t-2)  ISE(t-1)    ISE(t)\n",
       "4    0.746889  0.668147  0.254242  0.000000  0.549467\n",
       "5    0.668147  0.254242  0.000000  0.549467  0.251732\n",
       "6    0.254242  0.000000  0.549467  0.251732  0.592052\n",
       "7    0.000000  0.549467  0.251732  0.592052  0.160419\n",
       "8    0.549467  0.251732  0.592052  0.160419  0.479339\n",
       "..        ...       ...       ...       ...       ...\n",
       "525  0.531069  0.287664  0.661138  0.427052  0.515125\n",
       "526  0.287664  0.661138  0.427052  0.515125  0.511064\n",
       "527  0.661138  0.427052  0.515125  0.511064  0.339614\n",
       "528  0.427052  0.515125  0.511064  0.339614  0.510754\n",
       "529  0.515125  0.511064  0.339614  0.510754  0.455247\n",
       "\n",
       "[526 rows x 5 columns]"
      ]
     },
     "execution_count": 13,
     "metadata": {},
     "output_type": "execute_result"
    }
   ],
   "source": [
    "sdf"
   ]
  },
  {
   "cell_type": "code",
   "execution_count": 14,
   "id": "c94e8dca",
   "metadata": {},
   "outputs": [],
   "source": [
    "X, y = sdf[[('ISE(t-%d)' % i) for i in range(4, 0, -1)]].values, sdf['ISE(t)'].values #seperate X as the 4 steps of the timeseries and y as the predicted value."
   ]
  },
  {
   "cell_type": "markdown",
   "id": "54c59ca8",
   "metadata": {},
   "source": [
    "## Seperate training and testing data. "
   ]
  },
  {
   "cell_type": "code",
   "execution_count": 15,
   "id": "65f79534",
   "metadata": {},
   "outputs": [
    {
     "name": "stdout",
     "output_type": "stream",
     "text": [
      "Data size: 526\n",
      "Train  data size: 263\n",
      "Test data size: 263\n",
      "(263, 4) (263,)\n",
      "(263, 4) (263,)\n"
     ]
    }
   ],
   "source": [
    "len_data = X.shape[0]\n",
    "print(\"Data size: %d\" % len_data)\n",
    "train_size = int(len_data * .5)# 50% for training and 50% for testing\n",
    "print (\"Train  data size: %d\" % train_size)\n",
    "print (\"Test data size: %d\" % (len_data - train_size))\n",
    "\n",
    "xtr, ytr = X[:train_size, :], y[:train_size]\n",
    "xte, yte = X[train_size:, :], y[train_size:]\n",
    "print(xtr.shape, ytr.shape)\n",
    "print(xte.shape, yte.shape)"
   ]
  },
  {
   "cell_type": "markdown",
   "id": "09c8f721",
   "metadata": {},
   "source": [
    "## Create  and compile the model."
   ]
  },
  {
   "cell_type": "code",
   "execution_count": 46,
   "id": "0c42831f",
   "metadata": {},
   "outputs": [
    {
     "name": "stdout",
     "output_type": "stream",
     "text": [
      "Model: \"sequential_4\"\n",
      "_________________________________________________________________\n",
      "Layer (type)                 Output Shape              Param #   \n",
      "=================================================================\n",
      "dense_15 (Dense)             (None, 50)                250       \n",
      "_________________________________________________________________\n",
      "dense_16 (Dense)             (None, 50)                2550      \n",
      "_________________________________________________________________\n",
      "dense_17 (Dense)             (None, 1)                 51        \n",
      "=================================================================\n",
      "Total params: 2,851\n",
      "Trainable params: 2,851\n",
      "Non-trainable params: 0\n",
      "_________________________________________________________________\n"
     ]
    }
   ],
   "source": [
    "batch_size = 1 #1\n",
    "model = Sequential()\n",
    "\n",
    "model.add(Dense(units=50, input_dim=xtr.shape[1], activation=\"relu\"))#input dim is 4 as the timeseries steps.\n",
    "model.add(Dense(50, activation=\"relu\"))# linear activation functios was used as well\n",
    "model.add(Dense(1))\n",
    "model.compile(loss='mean_squared_error', optimizer='adam')\n",
    "model.summary()"
   ]
  },
  {
   "cell_type": "markdown",
   "id": "58c8f068",
   "metadata": {},
   "source": [
    "## Train the model "
   ]
  },
  {
   "cell_type": "code",
   "execution_count": 47,
   "id": "962cf507",
   "metadata": {},
   "outputs": [
    {
     "name": "stdout",
     "output_type": "stream",
     "text": [
      "Epoch 1/50\n",
      "263/263 - 0s - loss: 0.0339\n",
      "Epoch 2/50\n",
      "263/263 - 0s - loss: 0.0204\n",
      "Epoch 3/50\n",
      "263/263 - 0s - loss: 0.0192\n",
      "Epoch 4/50\n",
      "263/263 - 0s - loss: 0.0188\n",
      "Epoch 5/50\n",
      "263/263 - 0s - loss: 0.0193\n",
      "Epoch 6/50\n",
      "263/263 - 0s - loss: 0.0178\n",
      "Epoch 7/50\n",
      "263/263 - 0s - loss: 0.0183\n",
      "Epoch 8/50\n",
      "263/263 - 0s - loss: 0.0180\n",
      "Epoch 9/50\n",
      "263/263 - 0s - loss: 0.0175\n",
      "Epoch 10/50\n",
      "263/263 - 0s - loss: 0.0179\n",
      "Epoch 11/50\n",
      "263/263 - 0s - loss: 0.0172\n",
      "Epoch 12/50\n",
      "263/263 - 0s - loss: 0.0175\n",
      "Epoch 13/50\n",
      "263/263 - 0s - loss: 0.0179\n",
      "Epoch 14/50\n",
      "263/263 - 0s - loss: 0.0171\n",
      "Epoch 15/50\n",
      "263/263 - 0s - loss: 0.0176\n",
      "Epoch 16/50\n",
      "263/263 - 0s - loss: 0.0171\n",
      "Epoch 17/50\n",
      "263/263 - 0s - loss: 0.0161\n",
      "Epoch 18/50\n",
      "263/263 - 0s - loss: 0.0171\n",
      "Epoch 19/50\n",
      "263/263 - 0s - loss: 0.0168\n",
      "Epoch 20/50\n",
      "263/263 - 0s - loss: 0.0169\n",
      "Epoch 21/50\n",
      "263/263 - 0s - loss: 0.0172\n",
      "Epoch 22/50\n",
      "263/263 - 0s - loss: 0.0167\n",
      "Epoch 23/50\n",
      "263/263 - 0s - loss: 0.0167\n",
      "Epoch 24/50\n",
      "263/263 - 0s - loss: 0.0167\n",
      "Epoch 25/50\n",
      "263/263 - 0s - loss: 0.0165\n",
      "Epoch 26/50\n",
      "263/263 - 0s - loss: 0.0159\n",
      "Epoch 27/50\n",
      "263/263 - 0s - loss: 0.0163\n",
      "Epoch 28/50\n",
      "263/263 - 0s - loss: 0.0166\n",
      "Epoch 29/50\n",
      "263/263 - 0s - loss: 0.0168\n",
      "Epoch 30/50\n",
      "263/263 - 0s - loss: 0.0164\n",
      "Epoch 31/50\n",
      "263/263 - 0s - loss: 0.0162\n",
      "Epoch 32/50\n",
      "263/263 - 0s - loss: 0.0162\n",
      "Epoch 33/50\n",
      "263/263 - 0s - loss: 0.0161\n",
      "Epoch 34/50\n",
      "263/263 - 0s - loss: 0.0163\n",
      "Epoch 35/50\n",
      "263/263 - 0s - loss: 0.0160\n",
      "Epoch 36/50\n",
      "263/263 - 0s - loss: 0.0166\n",
      "Epoch 37/50\n",
      "263/263 - 0s - loss: 0.0160\n",
      "Epoch 38/50\n",
      "263/263 - 0s - loss: 0.0156\n",
      "Epoch 39/50\n",
      "263/263 - 0s - loss: 0.0163\n",
      "Epoch 40/50\n",
      "263/263 - 0s - loss: 0.0159\n",
      "Epoch 41/50\n",
      "263/263 - 0s - loss: 0.0158\n",
      "Epoch 42/50\n",
      "263/263 - 0s - loss: 0.0158\n",
      "Epoch 43/50\n",
      "263/263 - 0s - loss: 0.0155\n",
      "Epoch 44/50\n",
      "263/263 - 0s - loss: 0.0155\n",
      "Epoch 45/50\n",
      "263/263 - 0s - loss: 0.0159\n",
      "Epoch 46/50\n",
      "263/263 - 0s - loss: 0.0151\n",
      "Epoch 47/50\n",
      "263/263 - 0s - loss: 0.0157\n",
      "Epoch 48/50\n",
      "263/263 - 0s - loss: 0.0149\n",
      "Epoch 49/50\n",
      "263/263 - 0s - loss: 0.0157\n",
      "Epoch 50/50\n",
      "263/263 - 0s - loss: 0.0158\n"
     ]
    },
    {
     "data": {
      "text/plain": [
       "<tensorflow.python.keras.callbacks.History at 0x1df6449ad90>"
      ]
     },
     "execution_count": 47,
     "metadata": {},
     "output_type": "execute_result"
    }
   ],
   "source": [
    "\n",
    "model.fit(xtr,ytr, epochs=50, batch_size=batch_size, verbose=2)"
   ]
  },
  {
   "cell_type": "markdown",
   "id": "2f31ef22",
   "metadata": {},
   "source": [
    "## Make predictions "
   ]
  },
  {
   "cell_type": "code",
   "execution_count": 48,
   "id": "bccfa940",
   "metadata": {},
   "outputs": [],
   "source": [
    "trainPredict = model.predict(xtr, batch_size=batch_size)\n",
    "testPredict = model.predict(xte, batch_size=batch_size)"
   ]
  },
  {
   "cell_type": "markdown",
   "id": "d201385d",
   "metadata": {},
   "source": [
    "## Invert the true predicted values. "
   ]
  },
  {
   "cell_type": "code",
   "execution_count": 49,
   "id": "3d1886ee",
   "metadata": {},
   "outputs": [],
   "source": [
    "ytr2d = np.reshape(ytr, (ytr.shape[0], 1))\n",
    "yte2d = np.reshape(yte, (yte.shape[0], 1))"
   ]
  },
  {
   "cell_type": "markdown",
   "id": "77bf7480",
   "metadata": {},
   "source": [
    "## Inverse normalized data. "
   ]
  },
  {
   "cell_type": "code",
   "execution_count": 50,
   "id": "c123c912",
   "metadata": {},
   "outputs": [],
   "source": [
    "trainPredict = scaler.inverse_transform(trainPredict)\n",
    "trainY = scaler.inverse_transform(ytr2d)\n",
    "testPredict = scaler.inverse_transform(testPredict)\n",
    "testY = scaler.inverse_transform(yte2d)"
   ]
  },
  {
   "cell_type": "markdown",
   "id": "a00183a5",
   "metadata": {},
   "source": [
    "## Display MSE,MAE and R2 (squared) in order to evaluate our model. "
   ]
  },
  {
   "cell_type": "code",
   "execution_count": 51,
   "id": "cf61df7b",
   "metadata": {},
   "outputs": [
    {
     "name": "stdout",
     "output_type": "stream",
     "text": [
      "Test MSE:  0.0002364117001621753\n",
      "Test MAE:  [0.01132807]\n",
      "Test R2:  -0.09126369513922783\n"
     ]
    }
   ],
   "source": [
    "print(\"Test MSE: \", mean_squared_error(testY, testPredict))\n",
    "#print(\"Test MSE: \", sum(np.square(testY-testPredict))/testY.shape[0])#hand formula\n",
    "print(\"Test MAE: \", sum(abs(testY-testPredict))/testY.shape[0])\n",
    "print(\"Test R2: \", r2_score(testY, testPredict))\n",
    "#print(\"Test R2: \", 1-(sum(np.square(testY-testPredict))/sum(np.square(testY-testY.mean()))))#hand formula"
   ]
  },
  {
   "cell_type": "markdown",
   "id": "f90c4769",
   "metadata": {},
   "source": [
    "## Plot how our model did (left side is training and right is testing)"
   ]
  },
  {
   "cell_type": "code",
   "execution_count": 52,
   "id": "815c2ff0",
   "metadata": {},
   "outputs": [
    {
     "data": {
      "image/png": "[encoded data removed]",
      "text/plain": [
       "<Figure size 432x288 with 1 Axes>"
      ]
     },
     "metadata": {
      "needs_background": "light"
     },
     "output_type": "display_data"
    }
   ],
   "source": [
    "redicted = np.concatenate((trainPredict,testPredict),axis=0)\n",
    "\n",
    "original = np.concatenate((trainY,testY),axis=0)\n",
    "predicted = np.concatenate((trainPredict,testPredict),axis=0)\n",
    "index = range(0, original.shape[0])\n",
    "plt.plot(index,original, 'g')\n",
    "plt.plot(index,predicted, 'r')\n",
    "plt.axvline(df.index[train_size], c=\"b\")\n",
    "plt.savefig('./mlp_regression_results.png')\n",
    "plt.show()"
   ]
  },
  {
   "cell_type": "code",
   "execution_count": null,
   "id": "8d055a4f",
   "metadata": {},
   "outputs": [],
   "source": []
  }
 ],
 "metadata": {
  "kernelspec": {
   "display_name": "Python 3",
   "language": "python",
   "name": "python3"
  },
  "language_info": {
   "codemirror_mode": {
    "name": "ipython",
    "version": 3
   },
   "file_extension": ".py",
   "mimetype": "text/x-python",
   "name": "python",
   "nbconvert_exporter": "python",
   "pygments_lexer": "ipython3",
   "version": "3.8.10"
  }
 },
 "nbformat": 4,
 "nbformat_minor": 5
}
