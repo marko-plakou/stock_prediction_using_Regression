{
 "cells": [
  {
   "cell_type": "markdown",
   "id": "fde21c49",
   "metadata": {},
   "source": [
    "# B1 PREPROCESSING"
   ]
  },
  {
   "cell_type": "code",
   "execution_count": 31,
   "id": "789ecfc0",
   "metadata": {},
   "outputs": [],
   "source": [
    "import pandas as pd\n",
    "import openpyxl\n",
    "import numpy as np"
   ]
  },
  {
   "cell_type": "markdown",
   "id": "f80fb8b1",
   "metadata": {},
   "source": [
    "## Import Dataset from excel file. "
   ]
  },
  {
   "cell_type": "code",
   "execution_count": 13,
   "id": "3e77bab1",
   "metadata": {},
   "outputs": [
    {
     "name": "stderr",
     "output_type": "stream",
     "text": [
      "C:\\Users\\marko\\anaconda3\\envs\\da_project\\lib\\site-packages\\openpyxl\\worksheet\\_reader.py:312: UserWarning: Unknown extension is not supported and will be removed\n",
      "  warn(msg)\n"
     ]
    }
   ],
   "source": [
    "initial_df=pd.read_excel('data_akbilgic.xlsx',header=1)"
   ]
  },
  {
   "cell_type": "code",
   "execution_count": 14,
   "id": "5e71920e",
   "metadata": {},
   "outputs": [
    {
     "data": {
      "text/html": [
       "<div>\n",
       "<style scoped>\n",
       "    .dataframe tbody tr th:only-of-type {\n",
       "        vertical-align: middle;\n",
       "    }\n",
       "\n",
       "    .dataframe tbody tr th {\n",
       "        vertical-align: top;\n",
       "    }\n",
       "\n",
       "    .dataframe thead th {\n",
       "        text-align: right;\n",
       "    }\n",
       "</style>\n",
       "<table border=\"1\" class=\"dataframe\">\n",
       "  <thead>\n",
       "    <tr style=\"text-align: right;\">\n",
       "      <th></th>\n",
       "      <th>date</th>\n",
       "      <th>ISE</th>\n",
       "      <th>ISE.1</th>\n",
       "      <th>SP</th>\n",
       "      <th>DAX</th>\n",
       "      <th>FTSE</th>\n",
       "      <th>NIKKEI</th>\n",
       "      <th>BOVESPA</th>\n",
       "      <th>EU</th>\n",
       "      <th>EM</th>\n",
       "    </tr>\n",
       "  </thead>\n",
       "  <tbody>\n",
       "    <tr>\n",
       "      <th>0</th>\n",
       "      <td>2009-01-05</td>\n",
       "      <td>0.035754</td>\n",
       "      <td>0.038376</td>\n",
       "      <td>-0.004679</td>\n",
       "      <td>0.002193</td>\n",
       "      <td>0.003894</td>\n",
       "      <td>0.000000</td>\n",
       "      <td>0.031190</td>\n",
       "      <td>0.012698</td>\n",
       "      <td>0.028524</td>\n",
       "    </tr>\n",
       "    <tr>\n",
       "      <th>1</th>\n",
       "      <td>2009-01-06</td>\n",
       "      <td>0.025426</td>\n",
       "      <td>0.031813</td>\n",
       "      <td>0.007787</td>\n",
       "      <td>0.008455</td>\n",
       "      <td>0.012866</td>\n",
       "      <td>0.004162</td>\n",
       "      <td>0.018920</td>\n",
       "      <td>0.011341</td>\n",
       "      <td>0.008773</td>\n",
       "    </tr>\n",
       "    <tr>\n",
       "      <th>2</th>\n",
       "      <td>2009-01-07</td>\n",
       "      <td>-0.028862</td>\n",
       "      <td>-0.026353</td>\n",
       "      <td>-0.030469</td>\n",
       "      <td>-0.017833</td>\n",
       "      <td>-0.028735</td>\n",
       "      <td>0.017293</td>\n",
       "      <td>-0.035899</td>\n",
       "      <td>-0.017073</td>\n",
       "      <td>-0.020015</td>\n",
       "    </tr>\n",
       "    <tr>\n",
       "      <th>3</th>\n",
       "      <td>2009-01-08</td>\n",
       "      <td>-0.062208</td>\n",
       "      <td>-0.084716</td>\n",
       "      <td>0.003391</td>\n",
       "      <td>-0.011726</td>\n",
       "      <td>-0.000466</td>\n",
       "      <td>-0.040061</td>\n",
       "      <td>0.028283</td>\n",
       "      <td>-0.005561</td>\n",
       "      <td>-0.019424</td>\n",
       "    </tr>\n",
       "    <tr>\n",
       "      <th>4</th>\n",
       "      <td>2009-01-09</td>\n",
       "      <td>0.009860</td>\n",
       "      <td>0.009658</td>\n",
       "      <td>-0.021533</td>\n",
       "      <td>-0.019873</td>\n",
       "      <td>-0.012710</td>\n",
       "      <td>-0.004474</td>\n",
       "      <td>-0.009764</td>\n",
       "      <td>-0.010989</td>\n",
       "      <td>-0.007802</td>\n",
       "    </tr>\n",
       "  </tbody>\n",
       "</table>\n",
       "</div>"
      ],
      "text/plain": [
       "        date       ISE     ISE.1        SP       DAX      FTSE    NIKKEI  \\\n",
       "0 2009-01-05  0.035754  0.038376 -0.004679  0.002193  0.003894  0.000000   \n",
       "1 2009-01-06  0.025426  0.031813  0.007787  0.008455  0.012866  0.004162   \n",
       "2 2009-01-07 -0.028862 -0.026353 -0.030469 -0.017833 -0.028735  0.017293   \n",
       "3 2009-01-08 -0.062208 -0.084716  0.003391 -0.011726 -0.000466 -0.040061   \n",
       "4 2009-01-09  0.009860  0.009658 -0.021533 -0.019873 -0.012710 -0.004474   \n",
       "\n",
       "    BOVESPA        EU        EM  \n",
       "0  0.031190  0.012698  0.028524  \n",
       "1  0.018920  0.011341  0.008773  \n",
       "2 -0.035899 -0.017073 -0.020015  \n",
       "3  0.028283 -0.005561 -0.019424  \n",
       "4 -0.009764 -0.010989 -0.007802  "
      ]
     },
     "execution_count": 14,
     "metadata": {},
     "output_type": "execute_result"
    }
   ],
   "source": [
    "initial_df.head()"
   ]
  },
  {
   "cell_type": "code",
   "execution_count": 15,
   "id": "f48e9d09",
   "metadata": {},
   "outputs": [
    {
     "data": {
      "text/plain": [
       "536"
      ]
     },
     "execution_count": 15,
     "metadata": {},
     "output_type": "execute_result"
    }
   ],
   "source": [
    "len(initial_df) #length of the initial dataset."
   ]
  },
  {
   "cell_type": "markdown",
   "id": "8b0a31ce",
   "metadata": {},
   "source": [
    "## Preprocessing function"
   ]
  },
  {
   "cell_type": "code",
   "execution_count": 16,
   "id": "8b140d26",
   "metadata": {},
   "outputs": [],
   "source": [
    "def data_preprocessing(df):\n",
    "    df=df.loc[0:529] #keep the rows from 0 to 529 (first 530 rows)\n",
    "    df=df.drop(columns=['date']) #drop date column date\n",
    "    #df.to_csv('./data_akbilgic_clean.csv', header=True, index=False ,sep=';') #save the cleansed data in a csv file.\n",
    "    return df"
   ]
  },
  {
   "cell_type": "code",
   "execution_count": 17,
   "id": "e4be482b",
   "metadata": {},
   "outputs": [],
   "source": [
    "preprocessed_df=data_preprocessing(initial_df)"
   ]
  },
  {
   "cell_type": "code",
   "execution_count": 18,
   "id": "b64e525c",
   "metadata": {},
   "outputs": [
    {
     "data": {
      "text/html": [
       "<div>\n",
       "<style scoped>\n",
       "    .dataframe tbody tr th:only-of-type {\n",
       "        vertical-align: middle;\n",
       "    }\n",
       "\n",
       "    .dataframe tbody tr th {\n",
       "        vertical-align: top;\n",
       "    }\n",
       "\n",
       "    .dataframe thead th {\n",
       "        text-align: right;\n",
       "    }\n",
       "</style>\n",
       "<table border=\"1\" class=\"dataframe\">\n",
       "  <thead>\n",
       "    <tr style=\"text-align: right;\">\n",
       "      <th></th>\n",
       "      <th>ISE</th>\n",
       "      <th>ISE.1</th>\n",
       "      <th>SP</th>\n",
       "      <th>DAX</th>\n",
       "      <th>FTSE</th>\n",
       "      <th>NIKKEI</th>\n",
       "      <th>BOVESPA</th>\n",
       "      <th>EU</th>\n",
       "      <th>EM</th>\n",
       "    </tr>\n",
       "  </thead>\n",
       "  <tbody>\n",
       "    <tr>\n",
       "      <th>0</th>\n",
       "      <td>0.035754</td>\n",
       "      <td>0.038376</td>\n",
       "      <td>-0.004679</td>\n",
       "      <td>0.002193</td>\n",
       "      <td>0.003894</td>\n",
       "      <td>0.000000</td>\n",
       "      <td>0.031190</td>\n",
       "      <td>0.012698</td>\n",
       "      <td>0.028524</td>\n",
       "    </tr>\n",
       "    <tr>\n",
       "      <th>1</th>\n",
       "      <td>0.025426</td>\n",
       "      <td>0.031813</td>\n",
       "      <td>0.007787</td>\n",
       "      <td>0.008455</td>\n",
       "      <td>0.012866</td>\n",
       "      <td>0.004162</td>\n",
       "      <td>0.018920</td>\n",
       "      <td>0.011341</td>\n",
       "      <td>0.008773</td>\n",
       "    </tr>\n",
       "    <tr>\n",
       "      <th>2</th>\n",
       "      <td>-0.028862</td>\n",
       "      <td>-0.026353</td>\n",
       "      <td>-0.030469</td>\n",
       "      <td>-0.017833</td>\n",
       "      <td>-0.028735</td>\n",
       "      <td>0.017293</td>\n",
       "      <td>-0.035899</td>\n",
       "      <td>-0.017073</td>\n",
       "      <td>-0.020015</td>\n",
       "    </tr>\n",
       "    <tr>\n",
       "      <th>3</th>\n",
       "      <td>-0.062208</td>\n",
       "      <td>-0.084716</td>\n",
       "      <td>0.003391</td>\n",
       "      <td>-0.011726</td>\n",
       "      <td>-0.000466</td>\n",
       "      <td>-0.040061</td>\n",
       "      <td>0.028283</td>\n",
       "      <td>-0.005561</td>\n",
       "      <td>-0.019424</td>\n",
       "    </tr>\n",
       "    <tr>\n",
       "      <th>4</th>\n",
       "      <td>0.009860</td>\n",
       "      <td>0.009658</td>\n",
       "      <td>-0.021533</td>\n",
       "      <td>-0.019873</td>\n",
       "      <td>-0.012710</td>\n",
       "      <td>-0.004474</td>\n",
       "      <td>-0.009764</td>\n",
       "      <td>-0.010989</td>\n",
       "      <td>-0.007802</td>\n",
       "    </tr>\n",
       "  </tbody>\n",
       "</table>\n",
       "</div>"
      ],
      "text/plain": [
       "        ISE     ISE.1        SP       DAX      FTSE    NIKKEI   BOVESPA  \\\n",
       "0  0.035754  0.038376 -0.004679  0.002193  0.003894  0.000000  0.031190   \n",
       "1  0.025426  0.031813  0.007787  0.008455  0.012866  0.004162  0.018920   \n",
       "2 -0.028862 -0.026353 -0.030469 -0.017833 -0.028735  0.017293 -0.035899   \n",
       "3 -0.062208 -0.084716  0.003391 -0.011726 -0.000466 -0.040061  0.028283   \n",
       "4  0.009860  0.009658 -0.021533 -0.019873 -0.012710 -0.004474 -0.009764   \n",
       "\n",
       "         EU        EM  \n",
       "0  0.012698  0.028524  \n",
       "1  0.011341  0.008773  \n",
       "2 -0.017073 -0.020015  \n",
       "3 -0.005561 -0.019424  \n",
       "4 -0.010989 -0.007802  "
      ]
     },
     "execution_count": 18,
     "metadata": {},
     "output_type": "execute_result"
    }
   ],
   "source": [
    "preprocessed_df.head()"
   ]
  },
  {
   "cell_type": "code",
   "execution_count": 19,
   "id": "ac832ee7",
   "metadata": {},
   "outputs": [
    {
     "data": {
      "text/plain": [
       "530"
      ]
     },
     "execution_count": 19,
     "metadata": {},
     "output_type": "execute_result"
    }
   ],
   "source": [
    "len(preprocessed_df)"
   ]
  },
  {
   "cell_type": "markdown",
   "id": "7f063e86",
   "metadata": {},
   "source": [
    "## Make the dataset supervised "
   ]
  },
  {
   "cell_type": "code",
   "execution_count": 20,
   "id": "d49bb9e6",
   "metadata": {},
   "outputs": [],
   "source": [
    "def timeseries_to_supervised(df, n_in, n_out):\n",
    "   agg = pd.DataFrame()\n",
    "\n",
    "   for i in range(n_in, 0, -1):\n",
    "      df_shifted = df.shift(i).copy()\n",
    "      df_shifted.rename(columns=lambda x: ('%s(t-%d)' % (x, i)), inplace=True)\n",
    "      agg = pd.concat([agg, df_shifted], axis=1)\n",
    "\n",
    "   for i in range(0, n_out):\n",
    "      df_shifted = df.shift(-i).copy()\n",
    "      if i == 0:\n",
    "         df_shifted.rename(columns=lambda x: ('%s(t)' % (x)), inplace=True)\n",
    "      else:\n",
    "         df_shifted.rename(columns=lambda x: ('%s(t+%d)' % (x, i)), inplace=True)\n",
    "      agg = pd.concat([agg, df_shifted], axis=1)\n",
    "   agg.dropna(inplace=True)\n",
    "   return agg"
   ]
  },
  {
   "cell_type": "code",
   "execution_count": 21,
   "id": "9c71be28",
   "metadata": {},
   "outputs": [],
   "source": [
    "supervised_df=timeseries_to_supervised(preprocessed_df,4,1)# timeseries consists of 4 input steps."
   ]
  },
  {
   "cell_type": "code",
   "execution_count": 22,
   "id": "13ea0383",
   "metadata": {},
   "outputs": [
    {
     "data": {
      "text/html": [
       "<div>\n",
       "<style scoped>\n",
       "    .dataframe tbody tr th:only-of-type {\n",
       "        vertical-align: middle;\n",
       "    }\n",
       "\n",
       "    .dataframe tbody tr th {\n",
       "        vertical-align: top;\n",
       "    }\n",
       "\n",
       "    .dataframe thead th {\n",
       "        text-align: right;\n",
       "    }\n",
       "</style>\n",
       "<table border=\"1\" class=\"dataframe\">\n",
       "  <thead>\n",
       "    <tr style=\"text-align: right;\">\n",
       "      <th></th>\n",
       "      <th>ISE(t-4)</th>\n",
       "      <th>ISE.1(t-4)</th>\n",
       "      <th>SP(t-4)</th>\n",
       "      <th>DAX(t-4)</th>\n",
       "      <th>FTSE(t-4)</th>\n",
       "      <th>NIKKEI(t-4)</th>\n",
       "      <th>BOVESPA(t-4)</th>\n",
       "      <th>EU(t-4)</th>\n",
       "      <th>EM(t-4)</th>\n",
       "      <th>ISE(t-3)</th>\n",
       "      <th>...</th>\n",
       "      <th>EM(t-1)</th>\n",
       "      <th>ISE(t)</th>\n",
       "      <th>ISE.1(t)</th>\n",
       "      <th>SP(t)</th>\n",
       "      <th>DAX(t)</th>\n",
       "      <th>FTSE(t)</th>\n",
       "      <th>NIKKEI(t)</th>\n",
       "      <th>BOVESPA(t)</th>\n",
       "      <th>EU(t)</th>\n",
       "      <th>EM(t)</th>\n",
       "    </tr>\n",
       "  </thead>\n",
       "  <tbody>\n",
       "    <tr>\n",
       "      <th>4</th>\n",
       "      <td>0.035754</td>\n",
       "      <td>0.038376</td>\n",
       "      <td>-0.004679</td>\n",
       "      <td>0.002193</td>\n",
       "      <td>0.003894</td>\n",
       "      <td>0.000000</td>\n",
       "      <td>0.031190</td>\n",
       "      <td>0.012698</td>\n",
       "      <td>0.028524</td>\n",
       "      <td>0.025426</td>\n",
       "      <td>...</td>\n",
       "      <td>-0.019424</td>\n",
       "      <td>0.009860</td>\n",
       "      <td>0.009658</td>\n",
       "      <td>-0.021533</td>\n",
       "      <td>-0.019873</td>\n",
       "      <td>-0.012710</td>\n",
       "      <td>-0.004474</td>\n",
       "      <td>-0.009764</td>\n",
       "      <td>-0.010989</td>\n",
       "      <td>-0.007802</td>\n",
       "    </tr>\n",
       "    <tr>\n",
       "      <th>5</th>\n",
       "      <td>0.025426</td>\n",
       "      <td>0.031813</td>\n",
       "      <td>0.007787</td>\n",
       "      <td>0.008455</td>\n",
       "      <td>0.012866</td>\n",
       "      <td>0.004162</td>\n",
       "      <td>0.018920</td>\n",
       "      <td>0.011341</td>\n",
       "      <td>0.008773</td>\n",
       "      <td>-0.028862</td>\n",
       "      <td>...</td>\n",
       "      <td>-0.007802</td>\n",
       "      <td>-0.029191</td>\n",
       "      <td>-0.042361</td>\n",
       "      <td>-0.022823</td>\n",
       "      <td>-0.013526</td>\n",
       "      <td>-0.005026</td>\n",
       "      <td>-0.049039</td>\n",
       "      <td>-0.053849</td>\n",
       "      <td>-0.012451</td>\n",
       "      <td>-0.022630</td>\n",
       "    </tr>\n",
       "    <tr>\n",
       "      <th>6</th>\n",
       "      <td>-0.028862</td>\n",
       "      <td>-0.026353</td>\n",
       "      <td>-0.030469</td>\n",
       "      <td>-0.017833</td>\n",
       "      <td>-0.028735</td>\n",
       "      <td>0.017293</td>\n",
       "      <td>-0.035899</td>\n",
       "      <td>-0.017073</td>\n",
       "      <td>-0.020015</td>\n",
       "      <td>-0.062208</td>\n",
       "      <td>...</td>\n",
       "      <td>-0.022630</td>\n",
       "      <td>0.015445</td>\n",
       "      <td>-0.000272</td>\n",
       "      <td>0.001757</td>\n",
       "      <td>-0.017674</td>\n",
       "      <td>-0.006141</td>\n",
       "      <td>0.000000</td>\n",
       "      <td>0.003572</td>\n",
       "      <td>-0.012220</td>\n",
       "      <td>-0.004827</td>\n",
       "    </tr>\n",
       "    <tr>\n",
       "      <th>7</th>\n",
       "      <td>-0.062208</td>\n",
       "      <td>-0.084716</td>\n",
       "      <td>0.003391</td>\n",
       "      <td>-0.011726</td>\n",
       "      <td>-0.000466</td>\n",
       "      <td>-0.040061</td>\n",
       "      <td>0.028283</td>\n",
       "      <td>-0.005561</td>\n",
       "      <td>-0.019424</td>\n",
       "      <td>0.009860</td>\n",
       "      <td>...</td>\n",
       "      <td>-0.004827</td>\n",
       "      <td>-0.041168</td>\n",
       "      <td>-0.035552</td>\n",
       "      <td>-0.034032</td>\n",
       "      <td>-0.047383</td>\n",
       "      <td>-0.050945</td>\n",
       "      <td>0.002912</td>\n",
       "      <td>-0.040302</td>\n",
       "      <td>-0.045220</td>\n",
       "      <td>-0.008677</td>\n",
       "    </tr>\n",
       "    <tr>\n",
       "      <th>8</th>\n",
       "      <td>0.009860</td>\n",
       "      <td>0.009658</td>\n",
       "      <td>-0.021533</td>\n",
       "      <td>-0.019873</td>\n",
       "      <td>-0.012710</td>\n",
       "      <td>-0.004474</td>\n",
       "      <td>-0.009764</td>\n",
       "      <td>-0.010989</td>\n",
       "      <td>-0.007802</td>\n",
       "      <td>-0.029191</td>\n",
       "      <td>...</td>\n",
       "      <td>-0.008677</td>\n",
       "      <td>0.000662</td>\n",
       "      <td>-0.017268</td>\n",
       "      <td>0.001328</td>\n",
       "      <td>-0.019551</td>\n",
       "      <td>-0.014335</td>\n",
       "      <td>-0.050448</td>\n",
       "      <td>0.030314</td>\n",
       "      <td>-0.012070</td>\n",
       "      <td>-0.023429</td>\n",
       "    </tr>\n",
       "  </tbody>\n",
       "</table>\n",
       "<p>5 rows × 45 columns</p>\n",
       "</div>"
      ],
      "text/plain": [
       "   ISE(t-4)  ISE.1(t-4)   SP(t-4)  DAX(t-4)  FTSE(t-4)  NIKKEI(t-4)  \\\n",
       "4  0.035754    0.038376 -0.004679  0.002193   0.003894     0.000000   \n",
       "5  0.025426    0.031813  0.007787  0.008455   0.012866     0.004162   \n",
       "6 -0.028862   -0.026353 -0.030469 -0.017833  -0.028735     0.017293   \n",
       "7 -0.062208   -0.084716  0.003391 -0.011726  -0.000466    -0.040061   \n",
       "8  0.009860    0.009658 -0.021533 -0.019873  -0.012710    -0.004474   \n",
       "\n",
       "   BOVESPA(t-4)   EU(t-4)   EM(t-4)  ISE(t-3)  ...   EM(t-1)    ISE(t)  \\\n",
       "4      0.031190  0.012698  0.028524  0.025426  ... -0.019424  0.009860   \n",
       "5      0.018920  0.011341  0.008773 -0.028862  ... -0.007802 -0.029191   \n",
       "6     -0.035899 -0.017073 -0.020015 -0.062208  ... -0.022630  0.015445   \n",
       "7      0.028283 -0.005561 -0.019424  0.009860  ... -0.004827 -0.041168   \n",
       "8     -0.009764 -0.010989 -0.007802 -0.029191  ... -0.008677  0.000662   \n",
       "\n",
       "   ISE.1(t)     SP(t)    DAX(t)   FTSE(t)  NIKKEI(t)  BOVESPA(t)     EU(t)  \\\n",
       "4  0.009658 -0.021533 -0.019873 -0.012710  -0.004474   -0.009764 -0.010989   \n",
       "5 -0.042361 -0.022823 -0.013526 -0.005026  -0.049039   -0.053849 -0.012451   \n",
       "6 -0.000272  0.001757 -0.017674 -0.006141   0.000000    0.003572 -0.012220   \n",
       "7 -0.035552 -0.034032 -0.047383 -0.050945   0.002912   -0.040302 -0.045220   \n",
       "8 -0.017268  0.001328 -0.019551 -0.014335  -0.050448    0.030314 -0.012070   \n",
       "\n",
       "      EM(t)  \n",
       "4 -0.007802  \n",
       "5 -0.022630  \n",
       "6 -0.004827  \n",
       "7 -0.008677  \n",
       "8 -0.023429  \n",
       "\n",
       "[5 rows x 45 columns]"
      ]
     },
     "execution_count": 22,
     "metadata": {},
     "output_type": "execute_result"
    }
   ],
   "source": [
    "supervised_df.head()"
   ]
  },
  {
   "cell_type": "code",
   "execution_count": 23,
   "id": "2755ab04",
   "metadata": {},
   "outputs": [
    {
     "data": {
      "text/plain": [
       "Index(['ISE(t-4)', 'ISE.1(t-4)', 'SP(t-4)', 'DAX(t-4)', 'FTSE(t-4)',\n",
       "       'NIKKEI(t-4)', 'BOVESPA(t-4)', 'EU(t-4)', 'EM(t-4)', 'ISE(t-3)',\n",
       "       'ISE.1(t-3)', 'SP(t-3)', 'DAX(t-3)', 'FTSE(t-3)', 'NIKKEI(t-3)',\n",
       "       'BOVESPA(t-3)', 'EU(t-3)', 'EM(t-3)', 'ISE(t-2)', 'ISE.1(t-2)',\n",
       "       'SP(t-2)', 'DAX(t-2)', 'FTSE(t-2)', 'NIKKEI(t-2)', 'BOVESPA(t-2)',\n",
       "       'EU(t-2)', 'EM(t-2)', 'ISE(t-1)', 'ISE.1(t-1)', 'SP(t-1)', 'DAX(t-1)',\n",
       "       'FTSE(t-1)', 'NIKKEI(t-1)', 'BOVESPA(t-1)', 'EU(t-1)', 'EM(t-1)',\n",
       "       'ISE(t)', 'ISE.1(t)', 'SP(t)', 'DAX(t)', 'FTSE(t)', 'NIKKEI(t)',\n",
       "       'BOVESPA(t)', 'EU(t)', 'EM(t)'],\n",
       "      dtype='object')"
      ]
     },
     "execution_count": 23,
     "metadata": {},
     "output_type": "execute_result"
    }
   ],
   "source": [
    "supervised_df.keys()"
   ]
  },
  {
   "cell_type": "markdown",
   "id": "0ba4da83",
   "metadata": {},
   "source": [
    "## Give  [samples, steps, features] shape."
   ]
  },
  {
   "cell_type": "code",
   "execution_count": 26,
   "id": "5e90363c",
   "metadata": {},
   "outputs": [
    {
     "name": "stdout",
     "output_type": "stream",
     "text": [
      "(526, 4) (526,)\n"
     ]
    }
   ],
   "source": [
    "X, y = supervised_df[[('ISE(t-%d)' % i) for i in range(4, 0, -1)]].values, supervised_df['ISE(t)'].values\n",
    "print(X.shape, y.shape)"
   ]
  },
  {
   "cell_type": "code",
   "execution_count": 28,
   "id": "c8d93fb0",
   "metadata": {},
   "outputs": [
    {
     "name": "stdout",
     "output_type": "stream",
     "text": [
      "Samples 526\n",
      "Steps 1\n"
     ]
    }
   ],
   "source": [
    "samples = supervised_df.shape[0]\n",
    "steps = 1\n",
    "print(\"Samples\",samples)\n",
    "print(\"Steps\",steps)\n",
    "features_in = 4\n",
    "features_out = 1"
   ]
  },
  {
   "cell_type": "code",
   "execution_count": 39,
   "id": "d713680f",
   "metadata": {},
   "outputs": [],
   "source": [
    "X = np.reshape(X, (samples, steps, features_in))# (Samples,steps,input_features)=(263,1,4)\n",
    "y = np.reshape(y, (samples, steps, features_out))"
   ]
  },
  {
   "cell_type": "code",
   "execution_count": 40,
   "id": "9b505703",
   "metadata": {},
   "outputs": [
    {
     "name": "stdout",
     "output_type": "stream",
     "text": [
      "Data input shape: (526, 1, 4) Data output shape: (526, 1, 1)\n"
     ]
    }
   ],
   "source": [
    "print(\"Data input shape:\",X.shape,\"Data output shape:\", y.shape)"
   ]
  },
  {
   "cell_type": "markdown",
   "id": "18a99390",
   "metadata": {},
   "source": [
    "### Save the supervised data to a csv file."
   ]
  },
  {
   "cell_type": "code",
   "execution_count": 29,
   "id": "21103bbc",
   "metadata": {},
   "outputs": [],
   "source": [
    "#supervised_df.to_csv('./data_akbilgic_supervised.csv', header=True, index=False ,sep=';')"
   ]
  }
 ],
 "metadata": {
  "kernelspec": {
   "display_name": "Python 3",
   "language": "python",
   "name": "python3"
  },
  "language_info": {
   "codemirror_mode": {
    "name": "ipython",
    "version": 3
   },
   "file_extension": ".py",
   "mimetype": "text/x-python",
   "name": "python",
   "nbconvert_exporter": "python",
   "pygments_lexer": "ipython3",
   "version": "3.8.10"
  }
 },
 "nbformat": 4,
 "nbformat_minor": 5
}
